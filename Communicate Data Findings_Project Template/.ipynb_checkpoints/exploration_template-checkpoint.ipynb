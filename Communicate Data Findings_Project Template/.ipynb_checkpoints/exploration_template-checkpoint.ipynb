{
 "cells": [
  {
   "cell_type": "markdown",
   "metadata": {
    "slideshow": {
     "slide_type": "slide"
    }
   },
   "source": [
    "# Bike Sharing Analysis with Ford GoBike Data\n",
    "## by LaShonda Dickson\n",
    "\n",
    "## Preliminary Wrangling\n",
    "\n",
    "> The dataset is from a sharing bicycle system called Ford GoBike. It is located in San Francisco, California and it has been opreating since 2013. In 2017, the system got partnered with the well known company Ford Motor and now the have around three thousands bicycle and around 270 stations in norhten California area.\n",
    "The dataset contains information about the GoBike system rides and it has around 1.9 million records since FY2018. In this project, I'll focus on 2018 data. I'll apply what I have learned form the previouis project, assessing the data then clean it."
   ]
  },
  {
   "cell_type": "code",
   "execution_count": 1,
   "metadata": {
    "slideshow": {
     "slide_type": "skip"
    }
   },
   "outputs": [],
   "source": [
    "# import all packages and set plots to be embedded inline\n",
    "import numpy as np\n",
    "import pandas as pd\n",
    "import matplotlib.pyplot as plt\n",
    "import seaborn as sns\n",
    "import datetime as dt\n",
    "import glob\n",
    "import os\n",
    "\n",
    "%matplotlib inline"
   ]
  },
  {
   "cell_type": "markdown",
   "metadata": {
    "slideshow": {
     "slide_type": "skip"
    }
   },
   "source": [
    "## Data Gathering\n",
    "> First, I'll be loading the data into one csv file."
   ]
  },
  {
   "cell_type": "code",
   "execution_count": 2,
   "metadata": {
    "slideshow": {
     "slide_type": "skip"
    }
   },
   "outputs": [],
   "source": [
    "df = pd.read_csv('master_file.csv')"
   ]
  },
  {
   "cell_type": "code",
   "execution_count": 3,
   "metadata": {
    "slideshow": {
     "slide_type": "skip"
    }
   },
   "outputs": [
    {
     "name": "stdout",
     "output_type": "stream",
     "text": [
      "<class 'pandas.core.frame.DataFrame'>\n",
      "RangeIndex: 183412 entries, 0 to 183411\n",
      "Data columns (total 16 columns):\n",
      " #   Column                   Non-Null Count   Dtype  \n",
      "---  ------                   --------------   -----  \n",
      " 0   duration_sec             183412 non-null  int64  \n",
      " 1   start_time               183412 non-null  object \n",
      " 2   end_time                 183412 non-null  object \n",
      " 3   start_station_id         183215 non-null  float64\n",
      " 4   start_station_name       183215 non-null  object \n",
      " 5   start_station_latitude   183412 non-null  float64\n",
      " 6   start_station_longitude  183412 non-null  float64\n",
      " 7   end_station_id           183215 non-null  float64\n",
      " 8   end_station_name         183215 non-null  object \n",
      " 9   end_station_latitude     183412 non-null  float64\n",
      " 10  end_station_longitude    183412 non-null  float64\n",
      " 11  bike_id                  183412 non-null  int64  \n",
      " 12  user_type                183412 non-null  object \n",
      " 13  member_birth_year        175147 non-null  float64\n",
      " 14  member_gender            175147 non-null  object \n",
      " 15  bike_share_for_all_trip  183412 non-null  object \n",
      "dtypes: float64(7), int64(2), object(7)\n",
      "memory usage: 17.5+ MB\n"
     ]
    }
   ],
   "source": [
    "df.info()"
   ]
  },
  {
   "cell_type": "code",
   "execution_count": 4,
   "metadata": {
    "slideshow": {
     "slide_type": "skip"
    }
   },
   "outputs": [
    {
     "data": {
      "text/plain": [
       "(183412, 16)"
      ]
     },
     "execution_count": 4,
     "metadata": {},
     "output_type": "execute_result"
    }
   ],
   "source": [
    "df.shape"
   ]
  },
  {
   "cell_type": "code",
   "execution_count": 5,
   "metadata": {
    "slideshow": {
     "slide_type": "skip"
    }
   },
   "outputs": [
    {
     "data": {
      "text/html": [
       "<div>\n",
       "<style scoped>\n",
       "    .dataframe tbody tr th:only-of-type {\n",
       "        vertical-align: middle;\n",
       "    }\n",
       "\n",
       "    .dataframe tbody tr th {\n",
       "        vertical-align: top;\n",
       "    }\n",
       "\n",
       "    .dataframe thead th {\n",
       "        text-align: right;\n",
       "    }\n",
       "</style>\n",
       "<table border=\"1\" class=\"dataframe\">\n",
       "  <thead>\n",
       "    <tr style=\"text-align: right;\">\n",
       "      <th></th>\n",
       "      <th>duration_sec</th>\n",
       "      <th>start_time</th>\n",
       "      <th>end_time</th>\n",
       "      <th>start_station_id</th>\n",
       "      <th>start_station_name</th>\n",
       "      <th>start_station_latitude</th>\n",
       "      <th>start_station_longitude</th>\n",
       "      <th>end_station_id</th>\n",
       "      <th>end_station_name</th>\n",
       "      <th>end_station_latitude</th>\n",
       "      <th>end_station_longitude</th>\n",
       "      <th>bike_id</th>\n",
       "      <th>user_type</th>\n",
       "      <th>member_birth_year</th>\n",
       "      <th>member_gender</th>\n",
       "      <th>bike_share_for_all_trip</th>\n",
       "    </tr>\n",
       "  </thead>\n",
       "  <tbody>\n",
       "    <tr>\n",
       "      <th>158827</th>\n",
       "      <td>205</td>\n",
       "      <td>2019-02-05 18:41:40.2900</td>\n",
       "      <td>2019-02-05 18:45:05.7800</td>\n",
       "      <td>243.0</td>\n",
       "      <td>Bancroft Way at College Ave</td>\n",
       "      <td>37.869360</td>\n",
       "      <td>-122.254337</td>\n",
       "      <td>267.0</td>\n",
       "      <td>Derby St at College Ave</td>\n",
       "      <td>37.861804</td>\n",
       "      <td>-122.253569</td>\n",
       "      <td>3272</td>\n",
       "      <td>Subscriber</td>\n",
       "      <td>1998.0</td>\n",
       "      <td>Male</td>\n",
       "      <td>No</td>\n",
       "    </tr>\n",
       "    <tr>\n",
       "      <th>51285</th>\n",
       "      <td>1282</td>\n",
       "      <td>2019-02-21 17:57:17.9810</td>\n",
       "      <td>2019-02-21 18:18:40.5900</td>\n",
       "      <td>323.0</td>\n",
       "      <td>Broadway at Kearny</td>\n",
       "      <td>37.798014</td>\n",
       "      <td>-122.405950</td>\n",
       "      <td>24.0</td>\n",
       "      <td>Spear St at Folsom St</td>\n",
       "      <td>37.789677</td>\n",
       "      <td>-122.390428</td>\n",
       "      <td>5039</td>\n",
       "      <td>Subscriber</td>\n",
       "      <td>1962.0</td>\n",
       "      <td>Male</td>\n",
       "      <td>No</td>\n",
       "    </tr>\n",
       "    <tr>\n",
       "      <th>87332</th>\n",
       "      <td>485</td>\n",
       "      <td>2019-02-17 09:34:57.6740</td>\n",
       "      <td>2019-02-17 09:43:03.2710</td>\n",
       "      <td>67.0</td>\n",
       "      <td>San Francisco Caltrain Station 2  (Townsend St...</td>\n",
       "      <td>37.776639</td>\n",
       "      <td>-122.395526</td>\n",
       "      <td>114.0</td>\n",
       "      <td>Rhode Island St at 17th St</td>\n",
       "      <td>37.764478</td>\n",
       "      <td>-122.402570</td>\n",
       "      <td>5218</td>\n",
       "      <td>Subscriber</td>\n",
       "      <td>1986.0</td>\n",
       "      <td>Male</td>\n",
       "      <td>No</td>\n",
       "    </tr>\n",
       "    <tr>\n",
       "      <th>80692</th>\n",
       "      <td>376</td>\n",
       "      <td>2019-02-18 15:06:12.2840</td>\n",
       "      <td>2019-02-18 15:12:28.6070</td>\n",
       "      <td>192.0</td>\n",
       "      <td>37th St at West St</td>\n",
       "      <td>37.826696</td>\n",
       "      <td>-122.271797</td>\n",
       "      <td>178.0</td>\n",
       "      <td>Broadway at 30th St</td>\n",
       "      <td>37.819381</td>\n",
       "      <td>-122.261928</td>\n",
       "      <td>6605</td>\n",
       "      <td>Subscriber</td>\n",
       "      <td>1991.0</td>\n",
       "      <td>Male</td>\n",
       "      <td>No</td>\n",
       "    </tr>\n",
       "    <tr>\n",
       "      <th>150460</th>\n",
       "      <td>344</td>\n",
       "      <td>2019-02-06 18:10:59.8940</td>\n",
       "      <td>2019-02-06 18:16:44.1110</td>\n",
       "      <td>104.0</td>\n",
       "      <td>4th St at 16th St</td>\n",
       "      <td>37.767045</td>\n",
       "      <td>-122.390833</td>\n",
       "      <td>355.0</td>\n",
       "      <td>23rd St at Tennessee St</td>\n",
       "      <td>37.755367</td>\n",
       "      <td>-122.388795</td>\n",
       "      <td>4744</td>\n",
       "      <td>Subscriber</td>\n",
       "      <td>1970.0</td>\n",
       "      <td>Male</td>\n",
       "      <td>No</td>\n",
       "    </tr>\n",
       "  </tbody>\n",
       "</table>\n",
       "</div>"
      ],
      "text/plain": [
       "        duration_sec                start_time                  end_time  \\\n",
       "158827           205  2019-02-05 18:41:40.2900  2019-02-05 18:45:05.7800   \n",
       "51285           1282  2019-02-21 17:57:17.9810  2019-02-21 18:18:40.5900   \n",
       "87332            485  2019-02-17 09:34:57.6740  2019-02-17 09:43:03.2710   \n",
       "80692            376  2019-02-18 15:06:12.2840  2019-02-18 15:12:28.6070   \n",
       "150460           344  2019-02-06 18:10:59.8940  2019-02-06 18:16:44.1110   \n",
       "\n",
       "        start_station_id                                 start_station_name  \\\n",
       "158827             243.0                        Bancroft Way at College Ave   \n",
       "51285              323.0                                 Broadway at Kearny   \n",
       "87332               67.0  San Francisco Caltrain Station 2  (Townsend St...   \n",
       "80692              192.0                                 37th St at West St   \n",
       "150460             104.0                                  4th St at 16th St   \n",
       "\n",
       "        start_station_latitude  start_station_longitude  end_station_id  \\\n",
       "158827               37.869360              -122.254337           267.0   \n",
       "51285                37.798014              -122.405950            24.0   \n",
       "87332                37.776639              -122.395526           114.0   \n",
       "80692                37.826696              -122.271797           178.0   \n",
       "150460               37.767045              -122.390833           355.0   \n",
       "\n",
       "                  end_station_name  end_station_latitude  \\\n",
       "158827     Derby St at College Ave             37.861804   \n",
       "51285        Spear St at Folsom St             37.789677   \n",
       "87332   Rhode Island St at 17th St             37.764478   \n",
       "80692          Broadway at 30th St             37.819381   \n",
       "150460     23rd St at Tennessee St             37.755367   \n",
       "\n",
       "        end_station_longitude  bike_id   user_type  member_birth_year  \\\n",
       "158827            -122.253569     3272  Subscriber             1998.0   \n",
       "51285             -122.390428     5039  Subscriber             1962.0   \n",
       "87332             -122.402570     5218  Subscriber             1986.0   \n",
       "80692             -122.261928     6605  Subscriber             1991.0   \n",
       "150460            -122.388795     4744  Subscriber             1970.0   \n",
       "\n",
       "       member_gender bike_share_for_all_trip  \n",
       "158827          Male                      No  \n",
       "51285           Male                      No  \n",
       "87332           Male                      No  \n",
       "80692           Male                      No  \n",
       "150460          Male                      No  "
      ]
     },
     "execution_count": 5,
     "metadata": {},
     "output_type": "execute_result"
    }
   ],
   "source": [
    "df.sample(5)"
   ]
  },
  {
   "cell_type": "markdown",
   "metadata": {
    "slideshow": {
     "slide_type": "skip"
    }
   },
   "source": [
    "## Create copy"
   ]
  },
  {
   "cell_type": "code",
   "execution_count": 6,
   "metadata": {
    "slideshow": {
     "slide_type": "skip"
    }
   },
   "outputs": [],
   "source": [
    "df_clean = df.copy()"
   ]
  },
  {
   "cell_type": "code",
   "execution_count": 7,
   "metadata": {
    "slideshow": {
     "slide_type": "skip"
    }
   },
   "outputs": [
    {
     "data": {
      "text/html": [
       "<div>\n",
       "<style scoped>\n",
       "    .dataframe tbody tr th:only-of-type {\n",
       "        vertical-align: middle;\n",
       "    }\n",
       "\n",
       "    .dataframe tbody tr th {\n",
       "        vertical-align: top;\n",
       "    }\n",
       "\n",
       "    .dataframe thead th {\n",
       "        text-align: right;\n",
       "    }\n",
       "</style>\n",
       "<table border=\"1\" class=\"dataframe\">\n",
       "  <thead>\n",
       "    <tr style=\"text-align: right;\">\n",
       "      <th></th>\n",
       "      <th>duration_sec</th>\n",
       "      <th>start_time</th>\n",
       "      <th>end_time</th>\n",
       "      <th>start_station_id</th>\n",
       "      <th>start_station_name</th>\n",
       "      <th>start_station_latitude</th>\n",
       "      <th>start_station_longitude</th>\n",
       "      <th>end_station_id</th>\n",
       "      <th>end_station_name</th>\n",
       "      <th>end_station_latitude</th>\n",
       "      <th>end_station_longitude</th>\n",
       "      <th>bike_id</th>\n",
       "      <th>user_type</th>\n",
       "      <th>member_birth_year</th>\n",
       "      <th>member_gender</th>\n",
       "      <th>bike_share_for_all_trip</th>\n",
       "    </tr>\n",
       "  </thead>\n",
       "  <tbody>\n",
       "    <tr>\n",
       "      <th>0</th>\n",
       "      <td>52185</td>\n",
       "      <td>2019-02-28 17:32:10.1450</td>\n",
       "      <td>2019-03-01 08:01:55.9750</td>\n",
       "      <td>21.0</td>\n",
       "      <td>Montgomery St BART Station (Market St at 2nd St)</td>\n",
       "      <td>37.789625</td>\n",
       "      <td>-122.400811</td>\n",
       "      <td>13.0</td>\n",
       "      <td>Commercial St at Montgomery St</td>\n",
       "      <td>37.794231</td>\n",
       "      <td>-122.402923</td>\n",
       "      <td>4902</td>\n",
       "      <td>Customer</td>\n",
       "      <td>1984.0</td>\n",
       "      <td>Male</td>\n",
       "      <td>No</td>\n",
       "    </tr>\n",
       "    <tr>\n",
       "      <th>1</th>\n",
       "      <td>42521</td>\n",
       "      <td>2019-02-28 18:53:21.7890</td>\n",
       "      <td>2019-03-01 06:42:03.0560</td>\n",
       "      <td>23.0</td>\n",
       "      <td>The Embarcadero at Steuart St</td>\n",
       "      <td>37.791464</td>\n",
       "      <td>-122.391034</td>\n",
       "      <td>81.0</td>\n",
       "      <td>Berry St at 4th St</td>\n",
       "      <td>37.775880</td>\n",
       "      <td>-122.393170</td>\n",
       "      <td>2535</td>\n",
       "      <td>Customer</td>\n",
       "      <td>NaN</td>\n",
       "      <td>NaN</td>\n",
       "      <td>No</td>\n",
       "    </tr>\n",
       "  </tbody>\n",
       "</table>\n",
       "</div>"
      ],
      "text/plain": [
       "   duration_sec                start_time                  end_time  \\\n",
       "0         52185  2019-02-28 17:32:10.1450  2019-03-01 08:01:55.9750   \n",
       "1         42521  2019-02-28 18:53:21.7890  2019-03-01 06:42:03.0560   \n",
       "\n",
       "   start_station_id                                start_station_name  \\\n",
       "0              21.0  Montgomery St BART Station (Market St at 2nd St)   \n",
       "1              23.0                     The Embarcadero at Steuart St   \n",
       "\n",
       "   start_station_latitude  start_station_longitude  end_station_id  \\\n",
       "0               37.789625              -122.400811            13.0   \n",
       "1               37.791464              -122.391034            81.0   \n",
       "\n",
       "                 end_station_name  end_station_latitude  \\\n",
       "0  Commercial St at Montgomery St             37.794231   \n",
       "1              Berry St at 4th St             37.775880   \n",
       "\n",
       "   end_station_longitude  bike_id user_type  member_birth_year member_gender  \\\n",
       "0            -122.402923     4902  Customer             1984.0          Male   \n",
       "1            -122.393170     2535  Customer                NaN           NaN   \n",
       "\n",
       "  bike_share_for_all_trip  \n",
       "0                      No  \n",
       "1                      No  "
      ]
     },
     "execution_count": 7,
     "metadata": {},
     "output_type": "execute_result"
    }
   ],
   "source": [
    "#Let's do a small test on the dataframe to make sure that the previous code is working\n",
    "df_clean .head(2)"
   ]
  },
  {
   "cell_type": "markdown",
   "metadata": {
    "slideshow": {
     "slide_type": "skip"
    }
   },
   "source": [
    "## Data Cleaning\n",
    "- The data type of start_time and end_time need to be changed from object to datetime\n",
    "- The data type of user_type , member_gender and bike_share_for_all_trip need to be changed to catagory\n",
    "- The data type of bike_id, start_station_id, end_station_id need to be changed to object\n",
    "- Some values in the member_birth_year are dates before 1900 to review and delete if needed\n",
    "- Calculate the age for each member and store it in new column called age\n",
    "- Split the date column into year, month, day and hour\n"
   ]
  },
  {
   "cell_type": "markdown",
   "metadata": {
    "slideshow": {
     "slide_type": "skip"
    }
   },
   "source": [
    "### Changing the data type"
   ]
  },
  {
   "cell_type": "markdown",
   "metadata": {
    "slideshow": {
     "slide_type": "skip"
    }
   },
   "source": [
    "In this section, I'll fix the first three points in data quality issue mentioned"
   ]
  },
  {
   "cell_type": "code",
   "execution_count": 8,
   "metadata": {
    "slideshow": {
     "slide_type": "skip"
    }
   },
   "outputs": [],
   "source": [
    "# Change the data type for the column start_time and end_time to datetime type\n",
    "df_clean.start_time = pd.to_datetime(df_clean.start_time)\n",
    "df_clean.end_time = pd.to_datetime(df_clean.end_time)"
   ]
  },
  {
   "cell_type": "code",
   "execution_count": 9,
   "metadata": {
    "slideshow": {
     "slide_type": "skip"
    }
   },
   "outputs": [],
   "source": [
    "# Change the data type for the columns user_type, member_gender and bike_share_for_all_trip to category\n",
    "df_clean.bike_share_for_all_trip = df_clean.bike_share_for_all_trip.astype('category')\n",
    "df_clean.member_gender = df_clean.member_gender.astype('category')\n",
    "df_clean.user_type = df_clean.user_type.astype('category')"
   ]
  },
  {
   "cell_type": "code",
   "execution_count": 10,
   "metadata": {
    "slideshow": {
     "slide_type": "skip"
    }
   },
   "outputs": [],
   "source": [
    "# Change the data type for the following columns to string \n",
    "df_clean.bike_id = df_clean.bike_id.astype(str)\n",
    "df_clean.end_station_id = df_clean.bike_id.astype(str)\n",
    "df_clean.start_station_id = df_clean.bike_id.astype(str)"
   ]
  },
  {
   "cell_type": "code",
   "execution_count": 11,
   "metadata": {
    "slideshow": {
     "slide_type": "skip"
    }
   },
   "outputs": [
    {
     "name": "stdout",
     "output_type": "stream",
     "text": [
      "<class 'pandas.core.frame.DataFrame'>\n",
      "RangeIndex: 183412 entries, 0 to 183411\n",
      "Data columns (total 16 columns):\n",
      " #   Column                   Non-Null Count   Dtype         \n",
      "---  ------                   --------------   -----         \n",
      " 0   duration_sec             183412 non-null  int64         \n",
      " 1   start_time               183412 non-null  datetime64[ns]\n",
      " 2   end_time                 183412 non-null  datetime64[ns]\n",
      " 3   start_station_id         183412 non-null  object        \n",
      " 4   start_station_name       183215 non-null  object        \n",
      " 5   start_station_latitude   183412 non-null  float64       \n",
      " 6   start_station_longitude  183412 non-null  float64       \n",
      " 7   end_station_id           183412 non-null  object        \n",
      " 8   end_station_name         183215 non-null  object        \n",
      " 9   end_station_latitude     183412 non-null  float64       \n",
      " 10  end_station_longitude    183412 non-null  float64       \n",
      " 11  bike_id                  183412 non-null  object        \n",
      " 12  user_type                183412 non-null  category      \n",
      " 13  member_birth_year        175147 non-null  float64       \n",
      " 14  member_gender            175147 non-null  category      \n",
      " 15  bike_share_for_all_trip  183412 non-null  category      \n",
      "dtypes: category(3), datetime64[ns](2), float64(5), int64(1), object(5)\n",
      "memory usage: 15.2+ MB\n"
     ]
    }
   ],
   "source": [
    "#Test to check results\n",
    "df_clean.info()"
   ]
  },
  {
   "cell_type": "markdown",
   "metadata": {
    "slideshow": {
     "slide_type": "skip"
    }
   },
   "source": [
    "### Calclulation of individuals' age"
   ]
  },
  {
   "cell_type": "markdown",
   "metadata": {
    "slideshow": {
     "slide_type": "skip"
    }
   },
   "source": [
    "Calculate the age of each individual by substracting the birth date from current date"
   ]
  },
  {
   "cell_type": "code",
   "execution_count": 12,
   "metadata": {
    "slideshow": {
     "slide_type": "skip"
    }
   },
   "outputs": [],
   "source": [
    "#This code will substract the birth date from current date and create columnd called memeber_age to store the reuslt in it\n",
    "df_clean['member_age'] = 2019-df_clean['member_birth_year']"
   ]
  },
  {
   "cell_type": "code",
   "execution_count": 13,
   "metadata": {
    "slideshow": {
     "slide_type": "skip"
    }
   },
   "outputs": [
    {
     "data": {
      "text/html": [
       "<div>\n",
       "<style scoped>\n",
       "    .dataframe tbody tr th:only-of-type {\n",
       "        vertical-align: middle;\n",
       "    }\n",
       "\n",
       "    .dataframe tbody tr th {\n",
       "        vertical-align: top;\n",
       "    }\n",
       "\n",
       "    .dataframe thead th {\n",
       "        text-align: right;\n",
       "    }\n",
       "</style>\n",
       "<table border=\"1\" class=\"dataframe\">\n",
       "  <thead>\n",
       "    <tr style=\"text-align: right;\">\n",
       "      <th></th>\n",
       "      <th>duration_sec</th>\n",
       "      <th>start_time</th>\n",
       "      <th>end_time</th>\n",
       "      <th>start_station_id</th>\n",
       "      <th>start_station_name</th>\n",
       "      <th>start_station_latitude</th>\n",
       "      <th>start_station_longitude</th>\n",
       "      <th>end_station_id</th>\n",
       "      <th>end_station_name</th>\n",
       "      <th>end_station_latitude</th>\n",
       "      <th>end_station_longitude</th>\n",
       "      <th>bike_id</th>\n",
       "      <th>user_type</th>\n",
       "      <th>member_birth_year</th>\n",
       "      <th>member_gender</th>\n",
       "      <th>bike_share_for_all_trip</th>\n",
       "      <th>member_age</th>\n",
       "    </tr>\n",
       "  </thead>\n",
       "  <tbody>\n",
       "    <tr>\n",
       "      <th>162701</th>\n",
       "      <td>299</td>\n",
       "      <td>2019-02-05 10:34:22.368</td>\n",
       "      <td>2019-02-05 10:39:21.991</td>\n",
       "      <td>4491</td>\n",
       "      <td>Bay Pl at Vernon St</td>\n",
       "      <td>37.812314</td>\n",
       "      <td>-122.260779</td>\n",
       "      <td>4491</td>\n",
       "      <td>19th Street BART Station</td>\n",
       "      <td>37.809013</td>\n",
       "      <td>-122.268247</td>\n",
       "      <td>4491</td>\n",
       "      <td>Subscriber</td>\n",
       "      <td>1988.0</td>\n",
       "      <td>Male</td>\n",
       "      <td>No</td>\n",
       "      <td>31.0</td>\n",
       "    </tr>\n",
       "    <tr>\n",
       "      <th>99972</th>\n",
       "      <td>1716</td>\n",
       "      <td>2019-02-14 18:31:14.699</td>\n",
       "      <td>2019-02-14 18:59:51.403</td>\n",
       "      <td>4682</td>\n",
       "      <td>Union St at 10th St</td>\n",
       "      <td>37.807239</td>\n",
       "      <td>-122.289370</td>\n",
       "      <td>4682</td>\n",
       "      <td>Broadway at 40th St</td>\n",
       "      <td>37.827757</td>\n",
       "      <td>-122.256716</td>\n",
       "      <td>4682</td>\n",
       "      <td>Subscriber</td>\n",
       "      <td>1985.0</td>\n",
       "      <td>Female</td>\n",
       "      <td>No</td>\n",
       "      <td>34.0</td>\n",
       "    </tr>\n",
       "    <tr>\n",
       "      <th>124032</th>\n",
       "      <td>403</td>\n",
       "      <td>2019-02-11 08:53:38.754</td>\n",
       "      <td>2019-02-11 09:00:22.634</td>\n",
       "      <td>4921</td>\n",
       "      <td>San Francisco Ferry Building (Harry Bridges Pl...</td>\n",
       "      <td>37.795392</td>\n",
       "      <td>-122.394203</td>\n",
       "      <td>4921</td>\n",
       "      <td>Broadway at Battery St</td>\n",
       "      <td>37.798572</td>\n",
       "      <td>-122.400869</td>\n",
       "      <td>4921</td>\n",
       "      <td>Subscriber</td>\n",
       "      <td>1972.0</td>\n",
       "      <td>Male</td>\n",
       "      <td>No</td>\n",
       "      <td>47.0</td>\n",
       "    </tr>\n",
       "    <tr>\n",
       "      <th>46810</th>\n",
       "      <td>338</td>\n",
       "      <td>2019-02-22 09:22:00.131</td>\n",
       "      <td>2019-02-22 09:27:38.887</td>\n",
       "      <td>3360</td>\n",
       "      <td>Miles Ave at Cavour St</td>\n",
       "      <td>37.838800</td>\n",
       "      <td>-122.258732</td>\n",
       "      <td>3360</td>\n",
       "      <td>Rockridge BART Station</td>\n",
       "      <td>37.844279</td>\n",
       "      <td>-122.251900</td>\n",
       "      <td>3360</td>\n",
       "      <td>Subscriber</td>\n",
       "      <td>1954.0</td>\n",
       "      <td>Female</td>\n",
       "      <td>No</td>\n",
       "      <td>65.0</td>\n",
       "    </tr>\n",
       "    <tr>\n",
       "      <th>138299</th>\n",
       "      <td>231</td>\n",
       "      <td>2019-02-08 07:48:57.480</td>\n",
       "      <td>2019-02-08 07:52:49.042</td>\n",
       "      <td>4973</td>\n",
       "      <td>2nd St at Townsend St</td>\n",
       "      <td>37.780526</td>\n",
       "      <td>-122.390288</td>\n",
       "      <td>4973</td>\n",
       "      <td>San Francisco Caltrain (Townsend St at 4th St)</td>\n",
       "      <td>37.776598</td>\n",
       "      <td>-122.395282</td>\n",
       "      <td>4973</td>\n",
       "      <td>Subscriber</td>\n",
       "      <td>1985.0</td>\n",
       "      <td>Female</td>\n",
       "      <td>No</td>\n",
       "      <td>34.0</td>\n",
       "    </tr>\n",
       "  </tbody>\n",
       "</table>\n",
       "</div>"
      ],
      "text/plain": [
       "        duration_sec              start_time                end_time  \\\n",
       "162701           299 2019-02-05 10:34:22.368 2019-02-05 10:39:21.991   \n",
       "99972           1716 2019-02-14 18:31:14.699 2019-02-14 18:59:51.403   \n",
       "124032           403 2019-02-11 08:53:38.754 2019-02-11 09:00:22.634   \n",
       "46810            338 2019-02-22 09:22:00.131 2019-02-22 09:27:38.887   \n",
       "138299           231 2019-02-08 07:48:57.480 2019-02-08 07:52:49.042   \n",
       "\n",
       "       start_station_id                                 start_station_name  \\\n",
       "162701             4491                                Bay Pl at Vernon St   \n",
       "99972              4682                                Union St at 10th St   \n",
       "124032             4921  San Francisco Ferry Building (Harry Bridges Pl...   \n",
       "46810              3360                             Miles Ave at Cavour St   \n",
       "138299             4973                              2nd St at Townsend St   \n",
       "\n",
       "        start_station_latitude  start_station_longitude end_station_id  \\\n",
       "162701               37.812314              -122.260779           4491   \n",
       "99972                37.807239              -122.289370           4682   \n",
       "124032               37.795392              -122.394203           4921   \n",
       "46810                37.838800              -122.258732           3360   \n",
       "138299               37.780526              -122.390288           4973   \n",
       "\n",
       "                                      end_station_name  end_station_latitude  \\\n",
       "162701                        19th Street BART Station             37.809013   \n",
       "99972                              Broadway at 40th St             37.827757   \n",
       "124032                          Broadway at Battery St             37.798572   \n",
       "46810                           Rockridge BART Station             37.844279   \n",
       "138299  San Francisco Caltrain (Townsend St at 4th St)             37.776598   \n",
       "\n",
       "        end_station_longitude bike_id   user_type  member_birth_year  \\\n",
       "162701            -122.268247    4491  Subscriber             1988.0   \n",
       "99972             -122.256716    4682  Subscriber             1985.0   \n",
       "124032            -122.400869    4921  Subscriber             1972.0   \n",
       "46810             -122.251900    3360  Subscriber             1954.0   \n",
       "138299            -122.395282    4973  Subscriber             1985.0   \n",
       "\n",
       "       member_gender bike_share_for_all_trip  member_age  \n",
       "162701          Male                      No        31.0  \n",
       "99972         Female                      No        34.0  \n",
       "124032          Male                      No        47.0  \n",
       "46810         Female                      No        65.0  \n",
       "138299        Female                      No        34.0  "
      ]
     },
     "execution_count": 13,
     "metadata": {},
     "output_type": "execute_result"
    }
   ],
   "source": [
    "#Testing\n",
    "df_clean.sample(5)"
   ]
  },
  {
   "cell_type": "markdown",
   "metadata": {
    "slideshow": {
     "slide_type": "skip"
    }
   },
   "source": [
    "### Split the date column into year, month, day and hour"
   ]
  },
  {
   "cell_type": "code",
   "execution_count": 14,
   "metadata": {
    "slideshow": {
     "slide_type": "skip"
    }
   },
   "outputs": [],
   "source": [
    "# Extract the start_time column the month, day , weekday and hour \n",
    "#Then create a column for each one\n",
    "df_clean['start_time_month_name']=df_clean['start_time'].dt.strftime('%B')\n",
    "df_clean['start_time_month']=df_clean['start_time'].dt.month.astype(int)\n",
    "df_clean['start_time_weekday']=df_clean['start_time'].dt.strftime('%a')\n",
    "df_clean['start_time_day']=df_clean['start_time'].dt.day.astype(int)\n",
    "df_clean['start_time_hour']=df_clean['start_time'].dt.hour"
   ]
  },
  {
   "cell_type": "code",
   "execution_count": 15,
   "metadata": {
    "slideshow": {
     "slide_type": "skip"
    }
   },
   "outputs": [
    {
     "name": "stdout",
     "output_type": "stream",
     "text": [
      "<class 'pandas.core.frame.DataFrame'>\n",
      "RangeIndex: 183412 entries, 0 to 183411\n",
      "Data columns (total 22 columns):\n",
      " #   Column                   Non-Null Count   Dtype         \n",
      "---  ------                   --------------   -----         \n",
      " 0   duration_sec             183412 non-null  int64         \n",
      " 1   start_time               183412 non-null  datetime64[ns]\n",
      " 2   end_time                 183412 non-null  datetime64[ns]\n",
      " 3   start_station_id         183412 non-null  object        \n",
      " 4   start_station_name       183215 non-null  object        \n",
      " 5   start_station_latitude   183412 non-null  float64       \n",
      " 6   start_station_longitude  183412 non-null  float64       \n",
      " 7   end_station_id           183412 non-null  object        \n",
      " 8   end_station_name         183215 non-null  object        \n",
      " 9   end_station_latitude     183412 non-null  float64       \n",
      " 10  end_station_longitude    183412 non-null  float64       \n",
      " 11  bike_id                  183412 non-null  object        \n",
      " 12  user_type                183412 non-null  category      \n",
      " 13  member_birth_year        175147 non-null  float64       \n",
      " 14  member_gender            175147 non-null  category      \n",
      " 15  bike_share_for_all_trip  183412 non-null  category      \n",
      " 16  member_age               175147 non-null  float64       \n",
      " 17  start_time_month_name    183412 non-null  object        \n",
      " 18  start_time_month         183412 non-null  int32         \n",
      " 19  start_time_weekday       183412 non-null  object        \n",
      " 20  start_time_day           183412 non-null  int32         \n",
      " 21  start_time_hour          183412 non-null  int64         \n",
      "dtypes: category(3), datetime64[ns](2), float64(6), int32(2), int64(2), object(7)\n",
      "memory usage: 20.8+ MB\n"
     ]
    }
   ],
   "source": [
    "#Test and see results\n",
    "df_clean.info()"
   ]
  },
  {
   "cell_type": "markdown",
   "metadata": {
    "slideshow": {
     "slide_type": "skip"
    }
   },
   "source": [
    "### Removing any records with age is greater than 60"
   ]
  },
  {
   "cell_type": "markdown",
   "metadata": {
    "slideshow": {
     "slide_type": "skip"
    }
   },
   "source": [
    "In this section I will outline why i chose to remove the ages older than age 59"
   ]
  },
  {
   "cell_type": "code",
   "execution_count": 16,
   "metadata": {
    "slideshow": {
     "slide_type": "slide"
    }
   },
   "outputs": [
    {
     "data": {
      "text/plain": [
       "Text(0.5, 0, 'Age of bike riders')"
      ]
     },
     "execution_count": 16,
     "metadata": {},
     "output_type": "execute_result"
    },
    {
     "data": {
      "image/png": "[encoded data removed]",
      "text/plain": [
       "<Figure size 1008x432 with 1 Axes>"
      ]
     },
     "metadata": {
      "needs_background": "light"
     },
     "output_type": "display_data"
    }
   ],
   "source": [
    "#Let's explore the age dataset\n",
    "plt.figure(figsize=(14,6))\n",
    "sns.boxplot(x='member_age', data=df_clean, palette='Blues', orient='h')\n",
    "plt.title(\"Age distribution\", fontsize=22, y=1.03)\n",
    "plt.xlabel(\"Age of bike riders\", fontsize=20, labelpad=10)"
   ]
  },
  {
   "cell_type": "markdown",
   "metadata": {
    "slideshow": {
     "slide_type": "subslide"
    }
   },
   "source": [
    "As you can see the majority of the age population is younger than 60 years of age, therefore i will remove any records with age value greater than 59"
   ]
  },
  {
   "cell_type": "code",
   "execution_count": 17,
   "metadata": {
    "slideshow": {
     "slide_type": "skip"
    }
   },
   "outputs": [],
   "source": [
    "#Remove any records with age value abouve 59 \n",
    "df_clean = df_clean.query('member_age <59')"
   ]
  },
  {
   "cell_type": "code",
   "execution_count": 18,
   "metadata": {
    "slideshow": {
     "slide_type": "skip"
    }
   },
   "outputs": [],
   "source": [
    "#Since we now removed the null values , we can sucssfuly convert the age and birth year to int\n",
    "\n",
    "df_clean.member_age = df_clean.member_age.astype(int)\n",
    "df_clean.member_birth_year = df_clean.member_birth_year.astype(int)"
   ]
  },
  {
   "cell_type": "code",
   "execution_count": 19,
   "metadata": {
    "slideshow": {
     "slide_type": "subslide"
    }
   },
   "outputs": [
    {
     "data": {
      "image/png": "[encoded data removed]",
      "text/plain": [
       "<Figure size 432x288 with 1 Axes>"
      ]
     },
     "metadata": {
      "needs_background": "light"
     },
     "output_type": "display_data"
    }
   ],
   "source": [
    "#Check if outliers were successfully removed\n",
    "sns.boxplot(data=df_clean, x='member_age');"
   ]
  },
  {
   "cell_type": "code",
   "execution_count": 20,
   "metadata": {
    "slideshow": {
     "slide_type": "skip"
    }
   },
   "outputs": [
    {
     "data": {
      "text/html": [
       "<div>\n",
       "<style scoped>\n",
       "    .dataframe tbody tr th:only-of-type {\n",
       "        vertical-align: middle;\n",
       "    }\n",
       "\n",
       "    .dataframe tbody tr th {\n",
       "        vertical-align: top;\n",
       "    }\n",
       "\n",
       "    .dataframe thead th {\n",
       "        text-align: right;\n",
       "    }\n",
       "</style>\n",
       "<table border=\"1\" class=\"dataframe\">\n",
       "  <thead>\n",
       "    <tr style=\"text-align: right;\">\n",
       "      <th></th>\n",
       "      <th>duration_sec</th>\n",
       "      <th>start_time</th>\n",
       "      <th>end_time</th>\n",
       "      <th>start_station_id</th>\n",
       "      <th>start_station_name</th>\n",
       "      <th>start_station_latitude</th>\n",
       "      <th>start_station_longitude</th>\n",
       "      <th>end_station_id</th>\n",
       "      <th>end_station_name</th>\n",
       "      <th>end_station_latitude</th>\n",
       "      <th>...</th>\n",
       "      <th>user_type</th>\n",
       "      <th>member_birth_year</th>\n",
       "      <th>member_gender</th>\n",
       "      <th>bike_share_for_all_trip</th>\n",
       "      <th>member_age</th>\n",
       "      <th>start_time_month_name</th>\n",
       "      <th>start_time_month</th>\n",
       "      <th>start_time_weekday</th>\n",
       "      <th>start_time_day</th>\n",
       "      <th>start_time_hour</th>\n",
       "    </tr>\n",
       "  </thead>\n",
       "  <tbody>\n",
       "    <tr>\n",
       "      <th>0</th>\n",
       "      <td>52185</td>\n",
       "      <td>2019-02-28 17:32:10.145</td>\n",
       "      <td>2019-03-01 08:01:55.975</td>\n",
       "      <td>4902</td>\n",
       "      <td>Montgomery St BART Station (Market St at 2nd St)</td>\n",
       "      <td>37.789625</td>\n",
       "      <td>-122.400811</td>\n",
       "      <td>4902</td>\n",
       "      <td>Commercial St at Montgomery St</td>\n",
       "      <td>37.794231</td>\n",
       "      <td>...</td>\n",
       "      <td>Customer</td>\n",
       "      <td>1984</td>\n",
       "      <td>Male</td>\n",
       "      <td>No</td>\n",
       "      <td>35</td>\n",
       "      <td>February</td>\n",
       "      <td>2</td>\n",
       "      <td>Thu</td>\n",
       "      <td>28</td>\n",
       "      <td>17</td>\n",
       "    </tr>\n",
       "    <tr>\n",
       "      <th>2</th>\n",
       "      <td>61854</td>\n",
       "      <td>2019-02-28 12:13:13.218</td>\n",
       "      <td>2019-03-01 05:24:08.146</td>\n",
       "      <td>5905</td>\n",
       "      <td>Market St at Dolores St</td>\n",
       "      <td>37.769305</td>\n",
       "      <td>-122.426826</td>\n",
       "      <td>5905</td>\n",
       "      <td>Powell St BART Station (Market St at 4th St)</td>\n",
       "      <td>37.786375</td>\n",
       "      <td>...</td>\n",
       "      <td>Customer</td>\n",
       "      <td>1972</td>\n",
       "      <td>Male</td>\n",
       "      <td>No</td>\n",
       "      <td>47</td>\n",
       "      <td>February</td>\n",
       "      <td>2</td>\n",
       "      <td>Thu</td>\n",
       "      <td>28</td>\n",
       "      <td>12</td>\n",
       "    </tr>\n",
       "  </tbody>\n",
       "</table>\n",
       "<p>2 rows × 22 columns</p>\n",
       "</div>"
      ],
      "text/plain": [
       "   duration_sec              start_time                end_time  \\\n",
       "0         52185 2019-02-28 17:32:10.145 2019-03-01 08:01:55.975   \n",
       "2         61854 2019-02-28 12:13:13.218 2019-03-01 05:24:08.146   \n",
       "\n",
       "  start_station_id                                start_station_name  \\\n",
       "0             4902  Montgomery St BART Station (Market St at 2nd St)   \n",
       "2             5905                           Market St at Dolores St   \n",
       "\n",
       "   start_station_latitude  start_station_longitude end_station_id  \\\n",
       "0               37.789625              -122.400811           4902   \n",
       "2               37.769305              -122.426826           5905   \n",
       "\n",
       "                               end_station_name  end_station_latitude  ...  \\\n",
       "0                Commercial St at Montgomery St             37.794231  ...   \n",
       "2  Powell St BART Station (Market St at 4th St)             37.786375  ...   \n",
       "\n",
       "   user_type member_birth_year member_gender  bike_share_for_all_trip  \\\n",
       "0   Customer              1984          Male                       No   \n",
       "2   Customer              1972          Male                       No   \n",
       "\n",
       "  member_age start_time_month_name  start_time_month start_time_weekday  \\\n",
       "0         35              February                 2                Thu   \n",
       "2         47              February                 2                Thu   \n",
       "\n",
       "   start_time_day start_time_hour  \n",
       "0              28              17  \n",
       "2              28              12  \n",
       "\n",
       "[2 rows x 22 columns]"
      ]
     },
     "execution_count": 20,
     "metadata": {},
     "output_type": "execute_result"
    }
   ],
   "source": [
    "#Testing\n",
    "df_clean.head(2)"
   ]
  },
  {
   "cell_type": "code",
   "execution_count": 21,
   "metadata": {
    "slideshow": {
     "slide_type": "skip"
    }
   },
   "outputs": [],
   "source": [
    "#Save the updated data into csv file\n",
    "df_clean.to_csv('cleaned_master_file.csv', index=False)"
   ]
  },
  {
   "cell_type": "code",
   "execution_count": 22,
   "metadata": {
    "slideshow": {
     "slide_type": "skip"
    }
   },
   "outputs": [
    {
     "data": {
      "text/plain": [
       "(170186, 22)"
      ]
     },
     "execution_count": 22,
     "metadata": {},
     "output_type": "execute_result"
    }
   ],
   "source": [
    "df_clean.shape"
   ]
  },
  {
   "cell_type": "markdown",
   "metadata": {
    "slideshow": {
     "slide_type": "skip"
    }
   },
   "source": [
    "## What is the structure of your dataset?"
   ]
  },
  {
   "cell_type": "markdown",
   "metadata": {
    "slideshow": {
     "slide_type": "skip"
    }
   },
   "source": [
    "> The dataset has 1.8 million records and it represting the rides detales of 2018 (from Jan 2018 to Jan 2019). The original dataset has the following information\n",
    "\n",
    "- Trip Duration: How long is the trip in seconds\n",
    "- Start and End time: when the trip has started and when did it end.\n",
    "- Station Information: like the station id, name and location\n",
    "- The user information: User type, birth year and gender\n",
    "  I successfully manage to extract more information from the dataset that I believe would help in the next phase. Information  like the following:\n",
    "\n",
    "- Calculated the age of the user from the user birth year column.\n",
    "- Extracted the month, weekday, day of the month and the hour from the trip start time column."
   ]
  },
  {
   "cell_type": "markdown",
   "metadata": {
    "slideshow": {
     "slide_type": "skip"
    }
   },
   "source": [
    "## What is/are the main feature(s) of interest in your dataset?"
   ]
  },
  {
   "cell_type": "markdown",
   "metadata": {
    "slideshow": {
     "slide_type": "skip"
    }
   },
   "source": [
    "> I found two features that I think they are intrested:\n",
    "\n",
    "- First one is the demand. I'll use to analyze the data regarding about the bikes demand. For example, which day of the week has the largest number of rides.\n",
    "- The second feature I'm interested in is the age group of the riders. Which group has the most rides in the dataset."
   ]
  },
  {
   "cell_type": "markdown",
   "metadata": {
    "slideshow": {
     "slide_type": "skip"
    }
   },
   "source": [
    "## What features in the dataset do you think will help support your investigation into your feature(s) of interest?"
   ]
  },
  {
   "cell_type": "markdown",
   "metadata": {
    "slideshow": {
     "slide_type": "skip"
    }
   },
   "source": [
    "> All data in the dataset would help my analysis. However, I see that the start trip date and location is the most crucial feature that help fine tune my analysis. Since I can analyze the demand time and location from that information."
   ]
  },
  {
   "cell_type": "markdown",
   "metadata": {
    "slideshow": {
     "slide_type": "skip"
    }
   },
   "source": [
    "## Univariate Exploration\n",
    "\n",
    "> Start with the usage of the bikes. Since the start time of the trips was split into hour weekday and month. We can now look at each one of them and explore the results starting with hourly usage of the bikes"
   ]
  },
  {
   "cell_type": "code",
   "execution_count": 23,
   "metadata": {
    "slideshow": {
     "slide_type": "slide"
    }
   },
   "outputs": [
    {
     "data": {
      "image/png": "[encoded data removed]",
      "text/plain": [
       "<Figure size 360x360 with 1 Axes>"
      ]
     },
     "metadata": {
      "needs_background": "light"
     },
     "output_type": "display_data"
    }
   ],
   "source": [
    "#Calculate the number of rides in each hour of the day and disply it in a chart \n",
    "\n",
    "hourly_chart = sns.catplot(data=df_clean, x='start_time_hour', kind='count' , color = 'Blue')\n",
    "hourly_chart.set_axis_labels(\"Hours\", \"Number of Trips\")\n",
    "hourly_chart.fig.suptitle('Hourly rides of the GoBike system');"
   ]
  },
  {
   "cell_type": "markdown",
   "metadata": {
    "slideshow": {
     "slide_type": "subslide"
    }
   },
   "source": [
    "> As you can see in the chart above, the highest number of rides occurs at 8AM in the morning and 5PM in the evining. Which is exepected  since most people start working at 8 a.m. and finish at 5 p.m."
   ]
  },
  {
   "cell_type": "code",
   "execution_count": 24,
   "metadata": {
    "slideshow": {
     "slide_type": "slide"
    }
   },
   "outputs": [
    {
     "data": {
      "image/png": "[encoded data removed]",
      "text/plain": [
       "<Figure size 360x360 with 1 Axes>"
      ]
     },
     "metadata": {
      "needs_background": "light"
     },
     "output_type": "display_data"
    }
   ],
   "source": [
    "#Calculate the number of rides in day of the week and disply it in a chart \n",
    "\n",
    "weekday = ['Mon', 'Tue', 'Wed', 'Thu', 'Fri', 'Sat', 'Sun']\n",
    "\n",
    "weekday_chart = sns.catplot(data=df_clean, x='start_time_weekday', kind='count', color = \"Orange\", order = weekday)\n",
    "weekday_chart.set_axis_labels(\"Weekday\", \"Number of Trips\")\n",
    "weekday_chart.fig.suptitle('Weekday Rides using GoBike System');"
   ]
  },
  {
   "cell_type": "markdown",
   "metadata": {
    "slideshow": {
     "slide_type": "subslide"
    }
   },
   "source": [
    "We can see that the start of the week and the end of the weekdays (Monday and Friday) have almost the same number of rides. However, in the middle of the week, the number of rides raises up and becomes the highst days of number of rides. On the other hand, the weekend (Saturday and Sunday) has the least amount of rides. In addation to that, the number of rides on Saturday is greater than the number of rides on Sunday and the reasoun behind that observation could be that some people works 6 days a week instaed of 5 days."
   ]
  },
  {
   "cell_type": "code",
   "execution_count": 25,
   "metadata": {
    "slideshow": {
     "slide_type": "slide"
    }
   },
   "outputs": [
    {
     "data": {
      "image/png": "[encoded data removed]",
      "text/plain": [
       "<Figure size 432x288 with 1 Axes>"
      ]
     },
     "metadata": {
      "needs_background": "light"
     },
     "output_type": "display_data"
    }
   ],
   "source": [
    "#This code will display the duration of the trips in a histogram\n",
    "\n",
    "binz = np.arange(0, 3600,60)\n",
    "\n",
    "plt.hist(data = df_clean, x = 'duration_sec', bins = binz , color= \"Maroon\")\n",
    "plt.title(\"Trip duration histogram\")\n",
    "plt.xlabel('Trip Duration in Seconds')\n",
    "plt.ylabel('Number of Trips');"
   ]
  },
  {
   "cell_type": "markdown",
   "metadata": {
    "slideshow": {
     "slide_type": "subslide"
    }
   },
   "source": [
    "From the above histogram, you can see the most of the trips are aroun 500 seconds , which is around 8 minutes. Then, the number of rides declines. Which indicatie that the longer the trip duration is, the number of trips are less frequent. That means that there is a negative correlation between the trip duration and the number of trips. The reason behind it could be that it take so much energy to ride a bike for long duration"
   ]
  },
  {
   "cell_type": "markdown",
   "metadata": {
    "slideshow": {
     "slide_type": "skip"
    }
   },
   "source": [
    "### Discuss the distribution(s) of your variable(s) of interest. Were there any unusual points? Did you need to perform any transformations?"
   ]
  },
  {
   "cell_type": "markdown",
   "metadata": {
    "slideshow": {
     "slide_type": "subslide"
    }
   },
   "source": [
    "> trip_duration variable has unusual points where some of the trips lasted more than 2 hours and I had to do some transformation by limiting the bins on the chart to be one hour so the histogram would be clearer to study."
   ]
  },
  {
   "cell_type": "markdown",
   "metadata": {
    "slideshow": {
     "slide_type": "skip"
    }
   },
   "source": [
    "### Of the features you investigated, were there any unusual distributions? Did you perform any operations on the data to tidy, adjust, or change the form of the data? If so, why did you do this?"
   ]
  },
  {
   "cell_type": "markdown",
   "metadata": {
    "slideshow": {
     "slide_type": "skip"
    }
   },
   "source": [
    "> The users age were unusally distributed. There were members with birth year before 1920 and after anlyzing the age of all members. Calculated the age from the birth_year coulumn and found that most of the individuals are below 59. In result, I removed all records that have age above 59."
   ]
  },
  {
   "cell_type": "markdown",
   "metadata": {
    "slideshow": {
     "slide_type": "skip"
    }
   },
   "source": [
    "## Bivariate Exploration"
   ]
  },
  {
   "cell_type": "markdown",
   "metadata": {
    "slideshow": {
     "slide_type": "skip"
    }
   },
   "source": [
    ">In this section, I'll be taking the user type into account. We have two types of user in the dataset, one is customer and the other a subscriber. I'll apply the same analysis done in the previous section on the two types."
   ]
  },
  {
   "cell_type": "markdown",
   "metadata": {
    "slideshow": {
     "slide_type": "slide"
    }
   },
   "source": [
    "#### Let's calculate the proportion for each type with the total users."
   ]
  },
  {
   "cell_type": "code",
   "execution_count": 26,
   "metadata": {
    "slideshow": {
     "slide_type": "skip"
    }
   },
   "outputs": [],
   "source": [
    "#This code will calculate the proportion for each type with the total users\n",
    "\n",
    "customer_count = df_clean.query('user_type == \"Customer\"')['bike_id'].count()\n",
    "subscriber_count = df_clean.query('user_type == \"Subscriber\"')['bike_id'].count()\n",
    "\n",
    "customer_prop = (customer_count / df_clean['bike_id'].count()) *100\n",
    "subscriber_prop = (subscriber_count / df_clean['bike_id'].count()) *100"
   ]
  },
  {
   "cell_type": "code",
   "execution_count": 27,
   "metadata": {
    "slideshow": {
     "slide_type": "skip"
    }
   },
   "outputs": [
    {
     "data": {
      "text/plain": [
       "9.589507950125158"
      ]
     },
     "execution_count": 27,
     "metadata": {},
     "output_type": "execute_result"
    }
   ],
   "source": [
    "customer_prop"
   ]
  },
  {
   "cell_type": "code",
   "execution_count": 28,
   "metadata": {
    "slideshow": {
     "slide_type": "skip"
    }
   },
   "outputs": [
    {
     "data": {
      "text/plain": [
       "90.41049204987485"
      ]
     },
     "execution_count": 28,
     "metadata": {},
     "output_type": "execute_result"
    }
   ],
   "source": [
    "subscriber_prop"
   ]
  },
  {
   "cell_type": "code",
   "execution_count": 29,
   "metadata": {
    "slideshow": {
     "slide_type": "subslide"
    }
   },
   "outputs": [
    {
     "data": {
      "image/png": "[encoded data removed]",
      "text/plain": [
       "<Figure size 432x288 with 1 Axes>"
      ]
     },
     "metadata": {},
     "output_type": "display_data"
    }
   ],
   "source": [
    "#This code will disply the distupation of each type as pie chart\n",
    "\n",
    "labels = ['Customer', 'Subscriber']\n",
    "sizes = [customer_prop, subscriber_prop]\n",
    "plt.pie(sizes, explode=(0, 0.1), labels=labels,autopct='%1.1f%%')\n",
    "plt.axis('equal')\n",
    "\n",
    "plt.suptitle('User Types utilizing GoBike Sharing System');"
   ]
  },
  {
   "cell_type": "markdown",
   "metadata": {
    "slideshow": {
     "slide_type": "subslide"
    }
   },
   "source": [
    "Notice the pie chart shows most of the users are subscribers at 90.4% and 9.6% are customers."
   ]
  },
  {
   "cell_type": "code",
   "execution_count": 30,
   "metadata": {
    "slideshow": {
     "slide_type": "slide"
    }
   },
   "outputs": [
    {
     "data": {
      "image/png": "[encoded data removed]",
      "text/plain": [
       "<Figure size 720x360 with 2 Axes>"
      ]
     },
     "metadata": {
      "needs_background": "light"
     },
     "output_type": "display_data"
    }
   ],
   "source": [
    "#Calculate the number of rides per hour of the day for each user type and disply it in a chart \n",
    "\n",
    "hourly_user_chart = sns.catplot(data=df_clean, x='start_time_hour', col=\"user_type\", kind='count',color = \"Blue\",\n",
    "                                sharey = False)\n",
    "hourly_user_chart.set_axis_labels(\"Hour\", \"Number of Trips\")\n",
    "hourly_user_chart.set_titles(\"{col_name}\")\n",
    "hourly_user_chart.fig.suptitle('Hourly rides by user type',y=1.02, fontsize=10);"
   ]
  },
  {
   "cell_type": "markdown",
   "metadata": {
    "slideshow": {
     "slide_type": "subslide"
    }
   },
   "source": [
    "Observation from the previous chart is both users have the ride pattern. Most of the rides happend at the end and start of the business hours ( 8AM to 5PM ). On the other hand, we can see that the rides between 10AM and 4PM  are diffrent. For the customers, the number of rides are higher in that part of the day but for the subscribers, it is way less compare to the 9AM and 5PM rides"
   ]
  },
  {
   "cell_type": "code",
   "execution_count": 31,
   "metadata": {
    "slideshow": {
     "slide_type": "slide"
    }
   },
   "outputs": [
    {
     "data": {
      "image/png": "[encoded data removed]",
      "text/plain": [
       "<Figure size 720x360 with 2 Axes>"
      ]
     },
     "metadata": {
      "needs_background": "light"
     },
     "output_type": "display_data"
    }
   ],
   "source": [
    "#Calculate the number of rides in day of the week for each user type and display it in a chart \n",
    "\n",
    "weekday_user_chart = sns.catplot(data=df_clean, x='start_time_weekday', col=\"user_type\", kind='count', sharey = False,\n",
    "            color = \"Green\", order = weekday)\n",
    "weekday_user_chart.set_axis_labels(\"Weekday\", \"Number of Trips\")\n",
    "weekday_user_chart.set_titles(\"{col_name}\")\n",
    "weekday_user_chart.fig.suptitle('Weekday rides of the GoBike system by user type', y=1.02, fontsize=10);"
   ]
  },
  {
   "cell_type": "markdown",
   "metadata": {
    "slideshow": {
     "slide_type": "subslide"
    }
   },
   "source": [
    "We are assuming that most of the customers are people who are visiting the city or tourist who are not using the system to ride every day. That is why we can see the trend is diffrent with this type of users. Most of the rides happen on the weekend. On the other hand, the subscribers which are people who are using this service to help them reach to their daliy destintions like commute to work or school."
   ]
  },
  {
   "cell_type": "code",
   "execution_count": 32,
   "metadata": {
    "slideshow": {
     "slide_type": "slide"
    }
   },
   "outputs": [
    {
     "data": {
      "image/png": "[encoded data removed]",
      "text/plain": [
       "<Figure size 720x360 with 2 Axes>"
      ]
     },
     "metadata": {
      "needs_background": "light"
     },
     "output_type": "display_data"
    }
   ],
   "source": [
    "#Display the duration of the trips for each user type on a histogram\n",
    "\n",
    "duration_histo = sns.FacetGrid(df_clean, col=\"user_type\", margin_titles=True, height=5,sharey = False)\n",
    "bin_edges = np.arange(0, 3600,60)\n",
    "duration_histo.map(plt.hist, \"duration_sec\",color=\"Indigo\", bins=bin_edges)\n",
    "duration_histo.set_axis_labels(\"Trip Duration in Seconds\", \"Number of Trips\")\n",
    "duration_histo.set_titles(col_template = '{col_name}')\n",
    "duration_histo.fig.suptitle('Trip duration histogram by user type', y=1.02);"
   ]
  },
  {
   "cell_type": "markdown",
   "metadata": {
    "slideshow": {
     "slide_type": "subslide"
    }
   },
   "source": [
    "Looking at both charts, we can see that the customers tend to have longer trips than the subscribers. This observation reveals the same reason for the previous observation. Which that most of the subscribers are using the service to commute to work or school which usually it is a short distance. On the other hand , the customers tend to have longer trips due to customers using the service to explore the city which makes for longer trip duration"
   ]
  },
  {
   "cell_type": "markdown",
   "metadata": {
    "slideshow": {
     "slide_type": "slide"
    }
   },
   "source": [
    "> By taking the user type into account in the proccess of observing the dataset, it revealed the diffrent patterns between the two types. Each type had a different trend and was noted  by applying the same analysis applied to the entire dataset. We observed the subscribers tend to have more rides on the weekdays than the weekends. In addition, most of the trips are either at the first of the business day at 8AM and 5PM. The subscribers trips are shorter. On the other hand, the customers usually take their rides on the weekend more than other days and their tips mostly in the middle of the day. Finally, their trips are longer than the subscribers.\n",
    "\n",
    "> As mention above, customers usually have longer trips than subscribers. The reason for the differnce could be most of the subscribers use the system to take rides to work or school, which is usually a short in distance. On the other hand, the customers mainly come from out of town to sight see using the bike and tend to take longer trips than the customers."
   ]
  },
  {
   "cell_type": "markdown",
   "metadata": {
    "slideshow": {
     "slide_type": "slide"
    }
   },
   "source": [
    "> This section will group the members based on the age. The groups are Teenager, which covers users between the age of 13 and 19 years old. The second group is Young Adult which covers ages between 20 to 30 years old. The third group is Adult which covers the age between 31 and 49 year and the last group is Senior wich contains the mebers who are older than 49 years old."
   ]
  },
  {
   "cell_type": "code",
   "execution_count": 33,
   "metadata": {
    "slideshow": {
     "slide_type": "skip"
    }
   },
   "outputs": [],
   "source": [
    "#This code is for creating new column called \"age_group\" and will catagorise the users based on thier age\n",
    "df_clean['age_group'] = df_clean['member_age'].apply(lambda x: 'Teenager' if 12<x<=19\n",
    "                                                  else 'Young Adult' if 19<x<=30\n",
    "                                                  else 'Adult' if 30<x<=49\n",
    "                                                  else 'Senior' if 49<x\n",
    "                                                           else x)"
   ]
  },
  {
   "cell_type": "code",
   "execution_count": 34,
   "metadata": {
    "slideshow": {
     "slide_type": "skip"
    }
   },
   "outputs": [
    {
     "data": {
      "text/plain": [
       "Adult          84522\n",
       "Young Adult    72643\n",
       "Senior         11309\n",
       "Teenager        1712\n",
       "Name: age_group, dtype: int64"
      ]
     },
     "execution_count": 34,
     "metadata": {},
     "output_type": "execute_result"
    }
   ],
   "source": [
    "df_clean.age_group.value_counts()"
   ]
  },
  {
   "cell_type": "code",
   "execution_count": 35,
   "metadata": {
    "slideshow": {
     "slide_type": "subslide"
    }
   },
   "outputs": [
    {
     "data": {
      "image/png": "[encoded data removed]",
      "text/plain": [
       "<Figure size 2160x360 with 1 Axes>"
      ]
     },
     "metadata": {
      "needs_background": "light"
     },
     "output_type": "display_data"
    }
   ],
   "source": [
    "#This code will display the numbers of each group age and each user type in a chart\n",
    "\n",
    "plt.figure(figsize = [30, 5])\n",
    "plt.subplot(1, 2, 1)\n",
    "age_chart = sns.countplot(data=df_clean, x=\"user_type\", hue=\"age_group\", \n",
    "                          order=df_clean.user_type.value_counts().index)\n",
    "age_chart.set_xlabel('User Type')\n",
    "age_chart.set_ylabel('Number of Trips');"
   ]
  },
  {
   "cell_type": "markdown",
   "metadata": {
    "slideshow": {
     "slide_type": "subslide"
    }
   },
   "source": [
    "The above chart indicates both user types have the same trend. Adult subscribers have the most riedes also the same with the adult customers. In addition, the Teenagers take less trips. On the other hand, we can note that the gap between adult and young adult is diffrent between the two types. As for the subscribes type we see that alomst 2:1 between the two group. However, for the customers the gap is way less and it almost equal."
   ]
  },
  {
   "cell_type": "code",
   "execution_count": 36,
   "metadata": {
    "slideshow": {
     "slide_type": "slide"
    }
   },
   "outputs": [
    {
     "data": {
      "image/png": "[encoded data removed]",
      "text/plain": [
       "<Figure size 815.125x360 with 2 Axes>"
      ]
     },
     "metadata": {
      "needs_background": "light"
     },
     "output_type": "display_data"
    }
   ],
   "source": [
    "#Calculate the number of rides in each hour of the day for each user type and age group \n",
    "\n",
    "hourly_age_chart= sns.catplot(data=df_clean, x='start_time_hour', col=\"user_type\", hue='age_group',\n",
    "                              kind='count', sharey = False)\n",
    "hourly_age_chart.set_axis_labels(\"Hour\", \"Number of Trips\")\n",
    "hourly_age_chart._legend.set_title('Age Group')\n",
    "hourly_age_chart.set_titles(\"{col_name}\")\n",
    "hourly_age_chart.fig.suptitle('Hourly rides of the GoBike system per user type and age group', y=1.03,fontsize=10);"
   ]
  },
  {
   "cell_type": "markdown",
   "metadata": {
    "slideshow": {
     "slide_type": "subslide"
    }
   },
   "source": [
    "From the chart we can see that the Adult are domanating on both customer and subscriber. Also, the age group is follwong the overall trend that we have saw on the previous section, where on the “prime time” of both type we see that the adult has the most rides among other groups. If we examined the “non peak hours” for both types we see that the young adult group has the majorty. For example after 7PM on the customer type we see that the number of rides for youg adult is higher than other groups. However, for the subscribers, the trend changes after 8PM and the young adult group becomes the highest."
   ]
  },
  {
   "cell_type": "markdown",
   "metadata": {
    "slideshow": {
     "slide_type": "subslide"
    }
   },
   "source": [
    "> After including the age group into tha analysis process, I found out that most of the users are adult(30 to 49 years old) for both user types. However, the trend is the same for both user type where the adults dominate and then young adult, senior and last, teenagers. In addation, If we look at the hourly usage for the system we noticed that adult follow the overall observiation. Most of the trips are at the begining of the business day (when people usually go to work or school) and at the end of the day.\n",
    "\n",
    "> There were two interactions that got my attention. The first one is the gap between the adult and young adult in both type. The gap between the adult riders and young adult riders for the subscriber is almost 2:1. On the other hand, the gap between the two group for the customer almost equal. The other interaction was that the adult were always have the higher number of rides among other goups. However, if we examined the late hours of the day, we can see that the number of rides for the young adults becomes higher than the adult riders. The reason behind it could be that young adult (between 19 and 30 years old) usually go out late night more than other groups."
   ]
  },
  {
   "cell_type": "code",
   "execution_count": 2,
   "metadata": {
    "slideshow": {
     "slide_type": "skip"
    }
   },
   "outputs": [
    {
     "name": "stderr",
     "output_type": "stream",
     "text": [
      "[NbConvertApp] Converting notebook exploration_template.ipynb to slides\n",
      "[NbConvertApp] Writing 460500 bytes to exploration_template.slides.html\n",
      "[NbConvertApp] Redirecting reveal.js requests to https://cdnjs.cloudflare.com/ajax/libs/reveal.js/3.5.0\n",
      "Traceback (most recent call last):\n",
      "  File \"C:\\Users\\LASDIC\\Anaconda3\\Scripts\\jupyter-nbconvert-script.py\", line 10, in <module>\n",
      "    sys.exit(main())\n",
      "  File \"C:\\Users\\LASDIC\\Anaconda3\\lib\\site-packages\\jupyter_core\\application.py\", line 270, in launch_instance\n",
      "    return super(JupyterApp, cls).launch_instance(argv=argv, **kwargs)\n",
      "  File \"C:\\Users\\LASDIC\\Anaconda3\\lib\\site-packages\\traitlets\\config\\application.py\", line 664, in launch_instance\n",
      "    app.start()\n",
      "  File \"C:\\Users\\LASDIC\\Anaconda3\\lib\\site-packages\\nbconvert\\nbconvertapp.py\", line 340, in start\n",
      "    self.convert_notebooks()\n",
      "  File \"C:\\Users\\LASDIC\\Anaconda3\\lib\\site-packages\\nbconvert\\nbconvertapp.py\", line 510, in convert_notebooks\n",
      "    self.convert_single_notebook(notebook_filename)\n",
      "  File \"C:\\Users\\LASDIC\\Anaconda3\\lib\\site-packages\\nbconvert\\nbconvertapp.py\", line 483, in convert_single_notebook\n",
      "    self.postprocess_single_notebook(write_results)\n",
      "  File \"C:\\Users\\LASDIC\\Anaconda3\\lib\\site-packages\\nbconvert\\nbconvertapp.py\", line 455, in postprocess_single_notebook\n",
      "    self.postprocessor(write_results)\n",
      "  File \"C:\\Users\\LASDIC\\Anaconda3\\lib\\site-packages\\nbconvert\\postprocessors\\base.py\", line 28, in __call__\n",
      "    self.postprocess(input)\n",
      "  File \"C:\\Users\\LASDIC\\Anaconda3\\lib\\site-packages\\nbconvert\\postprocessors\\serve.py\", line 90, in postprocess\n",
      "    http_server.listen(self.port, address=self.ip)\n",
      "  File \"C:\\Users\\LASDIC\\Anaconda3\\lib\\site-packages\\tornado\\tcpserver.py\", line 152, in listen\n",
      "    self.add_sockets(sockets)\n",
      "  File \"C:\\Users\\LASDIC\\Anaconda3\\lib\\site-packages\\tornado\\tcpserver.py\", line 165, in add_sockets\n",
      "    self._handlers[sock.fileno()] = add_accept_handler(\n",
      "  File \"C:\\Users\\LASDIC\\Anaconda3\\lib\\site-packages\\tornado\\netutil.py\", line 279, in add_accept_handler\n",
      "    io_loop.add_handler(sock, accept_handler, IOLoop.READ)\n",
      "  File \"C:\\Users\\LASDIC\\Anaconda3\\lib\\site-packages\\tornado\\platform\\asyncio.py\", line 100, in add_handler\n",
      "    self.asyncio_loop.add_reader(fd, self._handle_events, fd, IOLoop.READ)\n",
      "  File \"C:\\Users\\LASDIC\\Anaconda3\\lib\\asyncio\\events.py\", line 501, in add_reader\n",
      "    raise NotImplementedError\n",
      "NotImplementedError\n"
     ]
    }
   ],
   "source": [
    "!jupyter nbconvert exploration_template.ipynb --to slides --post serve  --no-input --no-prompt"
   ]
  }
 ],
 "metadata": {
  "hide_input": false,
  "kernelspec": {
   "display_name": "Python 3",
   "language": "python",
   "name": "python3"
  },
  "language_info": {
   "codemirror_mode": {
    "name": "ipython",
    "version": 3
   },
   "file_extension": ".py",
   "mimetype": "text/x-python",
   "name": "python",
   "nbconvert_exporter": "python",
   "pygments_lexer": "ipython3",
   "version": "3.8.3"
  }
 },
 "nbformat": 4,
 "nbformat_minor": 2
}
